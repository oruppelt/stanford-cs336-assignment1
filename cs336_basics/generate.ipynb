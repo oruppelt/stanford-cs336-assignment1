{
 "cells": [
  {
   "cell_type": "code",
   "execution_count": null,
   "id": "f23232af",
   "metadata": {},
   "outputs": [],
   "source": [
    "import argparse\n",
    "import json\n",
    "import os\n",
    "import time\n",
    "from typing import List, Optional, Dict, Any, Union\n",
    "\n",
    "import torch\n",
    "import torch.nn.functional as F\n",
    "import numpy as np\n",
    "\n",
    "from transformer_blocks import TransformerLM, softmax\n",
    "from bpe_main import BPETokenizer\n",
    "\n",
    "def load_model_and_tokenizer(checkpoint_path: str, config_path: Optional[str] = None, \n",
    "                           tokenizer_vocab_path: str = None, tokenizer_merges_path: str = None,\n",
    "                           special_tokens: List[str] = None) -> tuple:\n",
    "    \"\"\"\n",
    "    Load trained model and tokenizer from checkpoint and config files.\n",
    "    \n",
    "    Args:\n",
    "        checkpoint_path: Path to model checkpoint\n",
    "        config_path: Path to training config (optional, will try to infer)\n",
    "        tokenizer_vocab_path: Path to tokenizer vocab file\n",
    "        tokenizer_merges_path: Path to tokenizer merges file\n",
    "        special_tokens: List of special tokens\n",
    "        \n",
    "    Returns:\n",
    "        Tuple of (model, tokenizer, config)\n",
    "    \"\"\"\n",
    "    # Load checkpoint\n",
    "    print(f\"Loading checkpoint from {checkpoint_path}...\")\n",
    "    checkpoint = torch.load(checkpoint_path, map_location='cpu')\n",
    "    \n",
    "    # Load config\n",
    "    if config_path is None:\n",
    "        # Try to find config in same directory as checkpoint\n",
    "        checkpoint_dir = os.path.dirname(checkpoint_path)\n",
    "        config_path = os.path.join(checkpoint_dir, \"config.json\")\n",
    "    \n",
    "    if os.path.exists(config_path):\n",
    "        with open(config_path, 'r') as f:\n",
    "            config = json.load(f)\n",
    "        print(f\"Loaded config from {config_path}\")\n",
    "    else:\n",
    "        # Fallback default config\n",
    "        print(\"Warning: No config file found, using default parameters\")\n",
    "        config = {\n",
    "            'vocab_size': 50257,\n",
    "            'context_length': 1024,\n",
    "            'd_model': 768,\n",
    "            'num_heads': 12,\n",
    "            'num_layers': 12,\n",
    "            'rope_theta': 10000.0\n",
    "        }\n",
    "    \n",
    "    # Initialize model\n",
    "    print(\"Initializing model...\")\n",
    "    model = TransformerLM(\n",
    "        vocab_size=config['vocab_size'],\n",
    "        context_length=config['context_length'],\n",
    "        d_model=config['d_model'],\n",
    "        num_heads=config['num_heads'],\n",
    "        num_layers=config['num_layers'],\n",
    "        rope_theta=config.get('rope_theta', 10000.0)\n",
    "    )\n",
    "    \n",
    "    # Load model weights\n",
    "    model.load_state_dict(checkpoint['model_state_dict'])\n",
    "    model.eval()\n",
    "    \n",
    "    # Count parameters\n",
    "    total_params = sum(p.numel() for p in model.parameters())\n",
    "    print(f\"Model loaded: {total_params:,} parameters\")\n",
    "    \n",
    "    # Load tokenizer\n",
    "    if tokenizer_vocab_path and tokenizer_merges_path:\n",
    "        print(\"Loading BPE tokenizer...\")\n",
    "        tokenizer = BPETokenizer.from_files(\n",
    "            vocab_path=tokenizer_vocab_path,\n",
    "            merges_path=tokenizer_merges_path,\n",
    "            special_tokens=special_tokens or [\"<|endoftext|>\"]\n",
    "        )\n",
    "        print(f\"Tokenizer loaded with vocab size: {len(tokenizer.vocab)}\")\n",
    "    else:\n",
    "        print(\"Warning: No tokenizer paths provided, tokenizer will be None\")\n",
    "        tokenizer = None\n",
    "    \n",
    "    return model, tokenizer, config"
   ]
  },
  {
   "cell_type": "code",
   "execution_count": 2,
   "id": "3fdad164",
   "metadata": {},
   "outputs": [],
   "source": [
    "checkpoint_path = \"checkpoints/final.pt\"\n",
    "config_path = \"checkpoints/config.json\"\n",
    "tokenizer_vocab_path = \"../artifacts/ts_train/vocab.json\"\n",
    "tokenizer_merges_path = \"../artifacts/ts_train/merges.json\"\n",
    "special_tokens = None"
   ]
  },
  {
   "cell_type": "code",
   "execution_count": 3,
   "id": "8964c059",
   "metadata": {},
   "outputs": [
    {
     "name": "stdout",
     "output_type": "stream",
     "text": [
      "Loading checkpoint from checkpoints/final.pt...\n",
      "Loaded config from checkpoints/config.json\n",
      "Initializing model...\n",
      "Model loaded: 100,313,856 parameters\n",
      "Loading BPE tokenizer...\n",
      "Loading vocab from ../artifacts/ts_train/vocab.json...\n",
      "Vocab loaded in 0.00s - 10000 entries\n",
      "Merges loaded in 0.00s - 9743 rules\n",
      "Tokenizer loaded with vocab size: 10000\n"
     ]
    }
   ],
   "source": [
    "model, tokenizer, config = load_model_and_tokenizer(\n",
    "    checkpoint_path=checkpoint_path,\n",
    "    config_path=config_path,\n",
    "    tokenizer_vocab_path=tokenizer_vocab_path,\n",
    "    tokenizer_merges_path=tokenizer_merges_path,\n",
    "    special_tokens=special_tokens\n",
    ")"
   ]
  },
  {
   "cell_type": "code",
   "execution_count": 61,
   "id": "c4f68d08",
   "metadata": {},
   "outputs": [],
   "source": [
    "prompt = (\"In France there are a\").strip()"
   ]
  },
  {
   "cell_type": "code",
   "execution_count": 62,
   "id": "da199b18",
   "metadata": {},
   "outputs": [],
   "source": [
    "# Tokenize prompt\n",
    "if prompt:\n",
    "    input_ids = tokenizer.encode(prompt)\n",
    "    if not input_ids:\n",
    "        print(\"Warning: Empty prompt after tokenization\")\n",
    "        input_ids = []\n",
    "else:\n",
    "    input_ids = []"
   ]
  },
  {
   "cell_type": "code",
   "execution_count": 63,
   "id": "4debe01a",
   "metadata": {},
   "outputs": [
    {
     "data": {
      "text/plain": [
       "[1463, 3532, 1638, 401, 483, 259]"
      ]
     },
     "execution_count": 63,
     "metadata": {},
     "output_type": "execute_result"
    }
   ],
   "source": [
    "input_ids"
   ]
  },
  {
   "cell_type": "code",
   "execution_count": null,
   "id": "1458e413",
   "metadata": {},
   "outputs": [],
   "source": []
  },
  {
   "cell_type": "code",
   "execution_count": 64,
   "id": "50cd9c1d",
   "metadata": {},
   "outputs": [],
   "source": [
    "if input_ids:\n",
    "    tokens = torch.tensor([input_ids], dtype=torch.long, device='cpu')\n",
    "else:\n",
    "    # Start with empty sequence - model should handle this\n",
    "    tokens = torch.empty((1, 0), dtype=torch.long, device='cpu')"
   ]
  },
  {
   "cell_type": "code",
   "execution_count": 65,
   "id": "5bd35e24",
   "metadata": {},
   "outputs": [
    {
     "data": {
      "text/plain": [
       "0"
      ]
     },
     "execution_count": 65,
     "metadata": {},
     "output_type": "execute_result"
    }
   ],
   "source": [
    "stop_token: str = \"<|endoftext|>\"\n",
    "\n",
    "stop_token_id = None\n",
    "if stop_token:\n",
    "    stop_tokens = tokenizer.encode(stop_token)\n",
    "    if stop_tokens:\n",
    "        stop_token_id = stop_tokens[0]\n",
    "stop_token_id"
   ]
  },
  {
   "cell_type": "code",
   "execution_count": 66,
   "id": "280e85d2",
   "metadata": {},
   "outputs": [],
   "source": [
    "generated_tokens = []\n",
    "# start_time = time.time()"
   ]
  },
  {
   "cell_type": "code",
   "execution_count": 21,
   "id": "f8d70b6e",
   "metadata": {},
   "outputs": [
    {
     "data": {
      "text/plain": [
       "tensor([[[-0.1438,  0.3650, -0.1430,  ...,  0.5692, -0.3380,  0.3288],\n",
       "         [-0.5015,  0.0610, -0.0039,  ...,  0.5530, -0.1796,  0.0252],\n",
       "         [-0.3390,  0.3696,  0.2635,  ...,  0.4191, -0.2637, -0.3357],\n",
       "         ...,\n",
       "         [-0.2940,  0.0408,  0.3533,  ...,  0.4481, -0.4130, -0.7079],\n",
       "         [-0.5766, -0.3995,  0.0820,  ...,  0.7355, -0.3799, -0.4130],\n",
       "         [-0.3247,  0.2963,  0.5471,  ...,  0.5115, -0.3120, -0.0507]]])"
      ]
     },
     "execution_count": 21,
     "metadata": {},
     "output_type": "execute_result"
    }
   ],
   "source": [
    "model.eval() \n",
    "with torch.no_grad(): \n",
    "    logits = model(tokens, return_logits=True)\n",
    "\n",
    "logits"
   ]
  },
  {
   "cell_type": "code",
   "execution_count": 22,
   "id": "5a20d6e3",
   "metadata": {},
   "outputs": [
    {
     "data": {
      "text/plain": [
       "torch.Size([1, 9, 10000])"
      ]
     },
     "execution_count": 22,
     "metadata": {},
     "output_type": "execute_result"
    }
   ],
   "source": [
    "logits.shape"
   ]
  },
  {
   "cell_type": "code",
   "execution_count": 24,
   "id": "80aef484",
   "metadata": {},
   "outputs": [
    {
     "data": {
      "text/plain": [
       "torch.Size([1, 10000])"
      ]
     },
     "execution_count": 24,
     "metadata": {},
     "output_type": "execute_result"
    }
   ],
   "source": [
    "next_token_logits = logits[:, -1, :]\n",
    "\n",
    "next_token_logits.shape"
   ]
  },
  {
   "cell_type": "code",
   "execution_count": 37,
   "id": "e83da02f",
   "metadata": {},
   "outputs": [],
   "source": [
    "next_token = torch.argmax(next_token_logits)\n",
    "next_token = next_token.unsqueeze(-1)"
   ]
  },
  {
   "cell_type": "code",
   "execution_count": 38,
   "id": "0b6ad95d",
   "metadata": {},
   "outputs": [],
   "source": [
    "tokens = torch.cat([tokens, next_token.unsqueeze(-1)], dim=-1)\n",
    "generated_tokens.append(next_token.item())"
   ]
  },
  {
   "cell_type": "code",
   "execution_count": null,
   "id": "ac68b688",
   "metadata": {},
   "outputs": [],
   "source": []
  },
  {
   "cell_type": "code",
   "execution_count": 39,
   "id": "0fda3863",
   "metadata": {},
   "outputs": [
    {
     "data": {
      "text/plain": [
       "[6031]"
      ]
     },
     "execution_count": 39,
     "metadata": {},
     "output_type": "execute_result"
    }
   ],
   "source": [
    "generated_tokens"
   ]
  },
  {
   "cell_type": "code",
   "execution_count": 41,
   "id": "a6042cc1",
   "metadata": {},
   "outputs": [
    {
     "data": {
      "text/plain": [
       "' cuts'"
      ]
     },
     "execution_count": 41,
     "metadata": {},
     "output_type": "execute_result"
    }
   ],
   "source": [
    "generated_text = tokenizer.decode(generated_tokens)\n",
    "generated_text"
   ]
  },
  {
   "cell_type": "code",
   "execution_count": 42,
   "id": "9c3cf2f0",
   "metadata": {},
   "outputs": [
    {
     "data": {
      "text/plain": [
       "tensor([[  81,  820, 1010,   59,  285,  496, 1311,  911, 1854, 6031]])"
      ]
     },
     "execution_count": 42,
     "metadata": {},
     "output_type": "execute_result"
    }
   ],
   "source": [
    "tokens"
   ]
  },
  {
   "cell_type": "code",
   "execution_count": null,
   "id": "a4416ebf",
   "metadata": {},
   "outputs": [],
   "source": [
    "def softmax_with_temperature(logits, temperature):\n",
    "    \n",
    "    scaled_logits = logits / temperature\n",
    "    \n",
    "    probs = F.softmax(scaled_logits, dim=-1)\n",
    "    \n",
    "    return probs"
   ]
  },
  {
   "cell_type": "code",
   "execution_count": 94,
   "id": "8b4ddefd",
   "metadata": {},
   "outputs": [],
   "source": [
    "def top_p_sampling(probs, top_p):\n",
    "    pass"
   ]
  },
  {
   "cell_type": "code",
   "execution_count": 88,
   "id": "f26b07dd",
   "metadata": {},
   "outputs": [],
   "source": [
    "def sample_next_token(logits: torch.Tensor, temperature: float = 1.0, \n",
    "                     top_p: float = 1.0, deterministic: bool = False) -> torch.Tensor:\n",
    "    \"\"\"\n",
    "    Sample next token from model logits using temperature and top-p sampling.\n",
    "    \n",
    "    Args:\n",
    "        logits: Model output logits of shape (..., vocab_size)\n",
    "        temperature: Temperature for scaling\n",
    "        top_p: Top-p threshold for nucleus sampling\n",
    "        deterministic: If True, always select most probable token (greedy)\n",
    "    \n",
    "    Returns:\n",
    "        Sampled token indices\n",
    "    \"\"\"\n",
    "    if deterministic:\n",
    "        return torch.argmax(logits, dim=-1)\n",
    "    \n",
    "    # Apply temperature scaling\n",
    "    probs = softmax_with_temperature(logits, temperature)\n",
    "    \n",
    "    # Apply top-p filtering\n",
    "    if top_p < 1.0:\n",
    "        probs = top_p_sampling(probs, top_p)\n",
    "    \n",
    "    # Sample from the distribution\n",
    "    next_token = torch.multinomial(probs, num_samples=1)\n",
    "    \n",
    "    return next_token.squeeze(-1)"
   ]
  },
  {
   "cell_type": "code",
   "execution_count": 92,
   "id": "9de56fc3",
   "metadata": {},
   "outputs": [
    {
     "data": {
      "text/plain": [
       "' big Bun also Sally floating unh unh unh trip a big a big a big, \".\\n<|endoftext|>\\n<|endoftext|>\\n<|endoftext|>'"
      ]
     },
     "execution_count": 92,
     "metadata": {},
     "output_type": "execute_result"
    }
   ],
   "source": [
    "# generated_tokens = []\n",
    "# start_time = time.time()\n",
    "\n",
    "# model.eval() \n",
    "with torch.no_grad(): \n",
    "    logits = model(tokens, return_logits=True)\n",
    "\n",
    "next_token_logits = logits[:, -1, :]\n",
    "next_token = sample_next_token(next_token_logits, deterministic=True)\n",
    "\n",
    "tokens = torch.cat([tokens, next_token.unsqueeze(-1)], dim=-1)\n",
    "generated_tokens.append(next_token.item())\n",
    "\n",
    "generated_text = tokenizer.decode(generated_tokens)\n",
    "generated_text"
   ]
  },
  {
   "cell_type": "code",
   "execution_count": null,
   "id": "b737e99f",
   "metadata": {},
   "outputs": [],
   "source": []
  },
  {
   "cell_type": "code",
   "execution_count": null,
   "id": "22662d00",
   "metadata": {},
   "outputs": [],
   "source": []
  }
 ],
 "metadata": {
  "kernelspec": {
   "display_name": ".venv",
   "language": "python",
   "name": "python3"
  },
  "language_info": {
   "codemirror_mode": {
    "name": "ipython",
    "version": 3
   },
   "file_extension": ".py",
   "mimetype": "text/x-python",
   "name": "python",
   "nbconvert_exporter": "python",
   "pygments_lexer": "ipython3",
   "version": "3.13.5"
  }
 },
 "nbformat": 4,
 "nbformat_minor": 5
}
