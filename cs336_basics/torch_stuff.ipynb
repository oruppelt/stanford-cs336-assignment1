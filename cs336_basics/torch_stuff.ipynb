{
 "cells": [
  {
   "cell_type": "code",
   "execution_count": 2,
   "id": "21db1a2e",
   "metadata": {},
   "outputs": [],
   "source": [
    "import torch\n"
   ]
  },
  {
   "cell_type": "code",
   "execution_count": 15,
   "id": "d3a5e32d",
   "metadata": {},
   "outputs": [],
   "source": [
    "d_k = 50\n",
    "device='cpu'\n",
    "theta = 100"
   ]
  },
  {
   "cell_type": "code",
   "execution_count": 16,
   "id": "2df1a051",
   "metadata": {},
   "outputs": [
    {
     "data": {
      "text/plain": [
       "tensor([ 0.,  1.,  2.,  3.,  4.,  5.,  6.,  7.,  8.,  9., 10., 11., 12., 13.,\n",
       "        14., 15., 16., 17., 18., 19., 20., 21., 22., 23., 24.])"
      ]
     },
     "execution_count": 16,
     "metadata": {},
     "output_type": "execute_result"
    }
   ],
   "source": [
    "torch.arange(0, d_k // 2, dtype=torch.float32, device=device)"
   ]
  },
  {
   "cell_type": "code",
   "execution_count": 17,
   "id": "0acf077d",
   "metadata": {},
   "outputs": [
    {
     "data": {
      "text/plain": [
       "tensor([ 0,  1,  2,  3,  4,  5,  6,  7,  8,  9, 10, 11, 12, 13, 14, 15, 16, 17,\n",
       "        18, 19, 20, 21, 22, 23, 24])"
      ]
     },
     "execution_count": 17,
     "metadata": {},
     "output_type": "execute_result"
    }
   ],
   "source": [
    "k_indices = torch.arange(0, d_k//2, device = device)\n",
    "k_indices"
   ]
  },
  {
   "cell_type": "code",
   "execution_count": 18,
   "id": "20818883",
   "metadata": {},
   "outputs": [
    {
     "data": {
      "text/plain": [
       "tensor([ 1.0000,  1.2023,  1.4454,  1.7378,  2.0893,  2.5119,  3.0200,  3.6308,\n",
       "         4.3652,  5.2481,  6.3096,  7.5858,  9.1201, 10.9648, 13.1826, 15.8489,\n",
       "        19.0546, 22.9087, 27.5423, 33.1131, 39.8107, 47.8630, 57.5440, 69.1831,\n",
       "        83.1764])"
      ]
     },
     "execution_count": 18,
     "metadata": {},
     "output_type": "execute_result"
    }
   ],
   "source": [
    "freqs = theta**(2 * k_indices / d_k)\n",
    "freqs"
   ]
  },
  {
   "cell_type": "code",
   "execution_count": 23,
   "id": "37b5a117",
   "metadata": {},
   "outputs": [
    {
     "data": {
      "text/plain": [
       "tensor([ 0.,  1.,  2.,  3.,  4.,  5.,  6.,  7.,  8.,  9., 10., 11., 12., 13.,\n",
       "        14., 15., 16., 17., 18., 19.])"
      ]
     },
     "execution_count": 23,
     "metadata": {},
     "output_type": "execute_result"
    }
   ],
   "source": [
    "torch.arange(20, dtype=torch.float32, device=device)"
   ]
  },
  {
   "cell_type": "code",
   "execution_count": null,
   "id": "3ec4f09b",
   "metadata": {},
   "outputs": [],
   "source": [
    "torch.outer()"
   ]
  },
  {
   "cell_type": "code",
   "execution_count": 25,
   "id": "bccc9684",
   "metadata": {},
   "outputs": [
    {
     "data": {
      "text/plain": [
       "tensor([ -1.0000,  -1.2023,  -1.4454,  -1.7378,  -2.0893,  -2.5119,  -3.0200,\n",
       "         -3.6308,  -4.3652,  -5.2481,  -6.3096,  -7.5858,  -9.1201, -10.9648,\n",
       "        -13.1826, -15.8489, -19.0546, -22.9087, -27.5423, -33.1131, -39.8107,\n",
       "        -47.8630, -57.5440, -69.1831, -83.1764])"
      ]
     },
     "execution_count": 25,
     "metadata": {},
     "output_type": "execute_result"
    }
   ],
   "source": [
    "freqs_neg = -1 * freqs\n",
    "freqs_neg"
   ]
  },
  {
   "cell_type": "code",
   "execution_count": 26,
   "id": "4d960d02",
   "metadata": {},
   "outputs": [
    {
     "data": {
      "text/plain": [
       "tensor([[  1.0000,  -1.0000],\n",
       "        [  1.2023,  -1.2023],\n",
       "        [  1.4454,  -1.4454],\n",
       "        [  1.7378,  -1.7378],\n",
       "        [  2.0893,  -2.0893],\n",
       "        [  2.5119,  -2.5119],\n",
       "        [  3.0200,  -3.0200],\n",
       "        [  3.6308,  -3.6308],\n",
       "        [  4.3652,  -4.3652],\n",
       "        [  5.2481,  -5.2481],\n",
       "        [  6.3096,  -6.3096],\n",
       "        [  7.5858,  -7.5858],\n",
       "        [  9.1201,  -9.1201],\n",
       "        [ 10.9648, -10.9648],\n",
       "        [ 13.1826, -13.1826],\n",
       "        [ 15.8489, -15.8489],\n",
       "        [ 19.0546, -19.0546],\n",
       "        [ 22.9087, -22.9087],\n",
       "        [ 27.5423, -27.5423],\n",
       "        [ 33.1131, -33.1131],\n",
       "        [ 39.8107, -39.8107],\n",
       "        [ 47.8630, -47.8630],\n",
       "        [ 57.5440, -57.5440],\n",
       "        [ 69.1831, -69.1831],\n",
       "        [ 83.1764, -83.1764]])"
      ]
     },
     "execution_count": 26,
     "metadata": {},
     "output_type": "execute_result"
    }
   ],
   "source": [
    "torch.stack([freqs, freqs_neg], dim=-1)"
   ]
  },
  {
   "cell_type": "code",
   "execution_count": 27,
   "id": "fdb5478f",
   "metadata": {},
   "outputs": [
    {
     "name": "stdout",
     "output_type": "stream",
     "text": [
      "x_even_rot shape: torch.Size([2, 4, 3])\n",
      "x_odd_rot shape: torch.Size([2, 4, 3])\n",
      "Target shape: (2, 4, 6)\n",
      "\n",
      "==================================================\n",
      "METHOD 1: Direct indexing (most efficient)\n",
      "==================================================\n",
      "Result1 shape: torch.Size([2, 4, 6])\n",
      "\n",
      "==================================================\n",
      "METHOD 2: Stack + flatten (your approach fixed)\n",
      "==================================================\n",
      "Stacked shape: torch.Size([2, 4, 3, 2])\n",
      "Result2 shape: torch.Size([2, 4, 6])\n",
      "\n",
      "==================================================\n",
      "METHOD 3: Stack + reshape\n",
      "==================================================\n",
      "Result3 shape: torch.Size([2, 4, 6])\n",
      "\n",
      "==================================================\n",
      "METHOD 4: Concatenate + rearrange (using einops)\n",
      "==================================================\n",
      "Result4 shape: torch.Size([2, 4, 6])\n",
      "\n",
      "==================================================\n",
      "METHOD 5: Interleave using repeat_interleave\n",
      "==================================================\n",
      "\n",
      "==================================================\n",
      "VERIFICATION: All methods give same result?\n",
      "==================================================\n",
      "Method 1 == Method 2: True\n",
      "Method 1 == Method 3: True\n",
      "Method 1 == Method 4: True\n",
      "\n",
      "==================================================\n",
      "ELEMENT ORDER VERIFICATION\n",
      "==================================================\n",
      "First few elements of result1:\n",
      "Should be: even[0], odd[0], even[1], odd[1], even[2], odd[2]\n",
      "result1[0, 0, :]: tensor([ 1.8610, -1.4852, -1.3570,  0.9508,  1.7945,  1.1790])\n",
      "x_even_rot[0, 0, :]: tensor([ 1.8610, -1.3570,  1.7945])\n",
      "x_odd_rot[0, 0, :]: tensor([-1.4852,  0.9508,  1.1790])\n"
     ]
    }
   ],
   "source": [
    "import torch\n",
    "\n",
    "def demo_merge_techniques():\n",
    "    # Example: d_k = 6, so d_k/2 = 3\n",
    "    batch_size, seq_len, d_k = 2, 4, 6\n",
    "    \n",
    "    # Simulate rotated even and odd elements\n",
    "    x_even_rot = torch.randn(batch_size, seq_len, d_k // 2)  # Shape: (2, 4, 3)\n",
    "    x_odd_rot = torch.randn(batch_size, seq_len, d_k // 2)   # Shape: (2, 4, 3)\n",
    "    \n",
    "    print(f\"x_even_rot shape: {x_even_rot.shape}\")\n",
    "    print(f\"x_odd_rot shape: {x_odd_rot.shape}\")\n",
    "    print(f\"Target shape: ({batch_size}, {seq_len}, {d_k})\")\n",
    "    \n",
    "    print(\"\\n\" + \"=\"*50)\n",
    "    print(\"METHOD 1: Direct indexing (most efficient)\")\n",
    "    print(\"=\"*50)\n",
    "    \n",
    "    result1 = torch.empty(batch_size, seq_len, d_k)\n",
    "    result1[..., 0::2] = x_even_rot  # Fill positions 0, 2, 4, ...\n",
    "    result1[..., 1::2] = x_odd_rot   # Fill positions 1, 3, 5, ...\n",
    "    print(f\"Result1 shape: {result1.shape}\")\n",
    "    \n",
    "    print(\"\\n\" + \"=\"*50)\n",
    "    print(\"METHOD 2: Stack + flatten (your approach fixed)\")\n",
    "    print(\"=\"*50)\n",
    "    \n",
    "    stacked = torch.stack([x_even_rot, x_odd_rot], dim=-1)  # (..., seq_len, d_k/2, 2)\n",
    "    result2 = stacked.flatten(-2)  # Flatten last 2 dims: (..., seq_len, d_k)\n",
    "    print(f\"Stacked shape: {stacked.shape}\")\n",
    "    print(f\"Result2 shape: {result2.shape}\")\n",
    "    \n",
    "    print(\"\\n\" + \"=\"*50)\n",
    "    print(\"METHOD 3: Stack + reshape\")\n",
    "    print(\"=\"*50)\n",
    "    \n",
    "    stacked = torch.stack([x_even_rot, x_odd_rot], dim=-1)\n",
    "    result3 = stacked.reshape(*stacked.shape[:-2], d_k)\n",
    "    print(f\"Result3 shape: {result3.shape}\")\n",
    "    \n",
    "    print(\"\\n\" + \"=\"*50)\n",
    "    print(\"METHOD 4: Concatenate + rearrange (using einops)\")\n",
    "    print(\"=\"*50)\n",
    "    \n",
    "    from einops import rearrange\n",
    "    \n",
    "    # Stack along a new dimension, then rearrange\n",
    "    stacked = torch.stack([x_even_rot, x_odd_rot], dim=-1)  # (..., d_k/2, 2)\n",
    "    result4 = rearrange(stacked, '... pairs two -> ... (pairs two)')\n",
    "    print(f\"Result4 shape: {result4.shape}\")\n",
    "    \n",
    "    print(\"\\n\" + \"=\"*50)\n",
    "    print(\"METHOD 5: Interleave using repeat_interleave\")\n",
    "    print(\"=\"*50)\n",
    "    \n",
    "    # This doesn't work directly but shows the concept\n",
    "    # We'd need to manually interleave, which is essentially method 1\n",
    "    \n",
    "    print(\"\\n\" + \"=\"*50)\n",
    "    print(\"VERIFICATION: All methods give same result?\")\n",
    "    print(\"=\"*50)\n",
    "    \n",
    "    print(f\"Method 1 == Method 2: {torch.allclose(result1, result2)}\")\n",
    "    print(f\"Method 1 == Method 3: {torch.allclose(result1, result3)}\")\n",
    "    print(f\"Method 1 == Method 4: {torch.allclose(result1, result4)}\")\n",
    "    \n",
    "    print(\"\\n\" + \"=\"*50)\n",
    "    print(\"ELEMENT ORDER VERIFICATION\")\n",
    "    print(\"=\"*50)\n",
    "    \n",
    "    # Check that the elements are in the right order\n",
    "    print(\"First few elements of result1:\")\n",
    "    print(\"Should be: even[0], odd[0], even[1], odd[1], even[2], odd[2]\")\n",
    "    print(f\"result1[0, 0, :]: {result1[0, 0, :]}\")\n",
    "    print(f\"x_even_rot[0, 0, :]: {x_even_rot[0, 0, :]}\")\n",
    "    print(f\"x_odd_rot[0, 0, :]: {x_odd_rot[0, 0, :]}\")\n",
    "\n",
    "demo_merge_techniques()"
   ]
  },
  {
   "cell_type": "code",
   "execution_count": 21,
   "id": "5ef440c6",
   "metadata": {},
   "outputs": [
    {
     "data": {
      "text/plain": [
       "range(0, 30)"
      ]
     },
     "execution_count": 21,
     "metadata": {},
     "output_type": "execute_result"
    }
   ],
   "source": [
    "range(30)"
   ]
  },
  {
   "cell_type": "code",
   "execution_count": 28,
   "id": "7a9c8ffd",
   "metadata": {},
   "outputs": [],
   "source": [
    "from einops import rearrange, einsum, reduce"
   ]
  },
  {
   "cell_type": "code",
   "execution_count": 48,
   "id": "31da0087",
   "metadata": {},
   "outputs": [
    {
     "data": {
      "text/plain": [
       "(torch.Size([2, 3]), torch.Size([4, 3]))"
      ]
     },
     "execution_count": 48,
     "metadata": {},
     "output_type": "execute_result"
    }
   ],
   "source": [
    "query = torch.tensor([[1,2,3],[6, 8, 10]])\n",
    "key = torch.tensor([[-1,-2,-3],[6, 8, 10], [-3, 2, -1], [8, 4, 0]])\n",
    "query.size(), key.size()"
   ]
  },
  {
   "cell_type": "code",
   "execution_count": 53,
   "id": "353c7d76",
   "metadata": {},
   "outputs": [
    {
     "data": {
      "text/plain": [
       "tensor([[-1.9799,  7.3539, -0.2828,  2.2627],\n",
       "        [-7.3539, 28.2843, -1.6971, 11.3137]])"
      ]
     },
     "execution_count": 53,
     "metadata": {},
     "output_type": "execute_result"
    }
   ],
   "source": [
    "scores = einsum(query, key, \"... q_len d_k, ... k_len d_k -> ... q_len k_len\") / torch.sqrt(torch.tensor(d_k, dtype=query.dtype))\n",
    "scores"
   ]
  },
  {
   "cell_type": "code",
   "execution_count": 3,
   "id": "f8d9bdb4",
   "metadata": {},
   "outputs": [],
   "source": [
    "torch.manual_seed(42)\n",
    "logits_2d = torch.randn(5, 10)  # (batch_size, vocab_size)\n",
    "targets_2d = torch.randint(0, 10, (5,))"
   ]
  },
  {
   "cell_type": "code",
   "execution_count": 4,
   "id": "89329bad",
   "metadata": {},
   "outputs": [
    {
     "data": {
      "text/plain": [
       "tensor([[ 1.9269,  1.4873,  0.9007, -2.1055,  0.6784, -1.2345, -0.0431, -1.6047,\n",
       "         -0.7521,  1.6487],\n",
       "        [-0.3925, -1.4036, -0.7279, -0.5594, -0.7688,  0.7624,  1.6423, -0.1596,\n",
       "         -0.4974,  0.4396],\n",
       "        [-0.7581,  1.0783,  0.8008,  1.6806,  1.2791,  1.2964,  0.6105,  1.3347,\n",
       "         -0.2316,  0.0418],\n",
       "        [-0.2516,  0.8599, -1.3847, -0.8712,  0.0780,  0.5258, -0.4880,  1.1914,\n",
       "         -0.8140, -0.7360],\n",
       "        [-0.8371, -0.9224, -0.0635,  0.6756, -0.0978,  1.8446, -1.1845,  1.3835,\n",
       "         -1.2024,  0.7078]])"
      ]
     },
     "execution_count": 4,
     "metadata": {},
     "output_type": "execute_result"
    }
   ],
   "source": [
    "logits_2d"
   ]
  },
  {
   "cell_type": "code",
   "execution_count": 5,
   "id": "f97a25a7",
   "metadata": {},
   "outputs": [
    {
     "data": {
      "text/plain": [
       "tensor([3, 0, 1, 1, 7])"
      ]
     },
     "execution_count": 5,
     "metadata": {},
     "output_type": "execute_result"
    }
   ],
   "source": [
    "targets_2d"
   ]
  },
  {
   "cell_type": "code",
   "execution_count": 7,
   "id": "d88dd35f",
   "metadata": {},
   "outputs": [
    {
     "data": {
      "text/plain": [
       "tensor([[1.9269],\n",
       "        [1.6423],\n",
       "        [1.6806],\n",
       "        [1.1914],\n",
       "        [1.8446]])"
      ]
     },
     "execution_count": 7,
     "metadata": {},
     "output_type": "execute_result"
    }
   ],
   "source": [
    "max_logits = torch.max(logits_2d, dim=1, keepdim=True)[0]\n",
    "max_logits"
   ]
  },
  {
   "cell_type": "code",
   "execution_count": 10,
   "id": "cf3c856d",
   "metadata": {},
   "outputs": [],
   "source": [
    "logits_stable = logits_2d - max_logits"
   ]
  },
  {
   "cell_type": "code",
   "execution_count": 12,
   "id": "909c8a5e",
   "metadata": {},
   "outputs": [
    {
     "data": {
      "text/plain": [
       "tensor([1.2072, 0.9042, 1.5671, 1.2431, 1.0228])"
      ]
     },
     "execution_count": 12,
     "metadata": {},
     "output_type": "execute_result"
    }
   ],
   "source": [
    "log_sum_exp = torch.log(torch.sum(torch.exp(logits_stable), dim=1))\n",
    "log_sum_exp"
   ]
  },
  {
   "cell_type": "code",
   "execution_count": 14,
   "id": "bbe667c1",
   "metadata": {},
   "outputs": [
    {
     "data": {
      "text/plain": [
       "tensor([-4.0324, -2.0348, -0.6023, -0.3315, -0.4610])"
      ]
     },
     "execution_count": 14,
     "metadata": {},
     "output_type": "execute_result"
    }
   ],
   "source": [
    "target_logits = logits_stable[torch.arange(logits_stable.shape[0]), targets_2d]\n",
    "target_logits"
   ]
  },
  {
   "cell_type": "code",
   "execution_count": 17,
   "id": "e591b424",
   "metadata": {},
   "outputs": [
    {
     "data": {
      "text/plain": [
       "[tensor([0, 1, 2, 3, 4]), tensor([3, 0, 1, 1, 7])]"
      ]
     },
     "execution_count": 17,
     "metadata": {},
     "output_type": "execute_result"
    }
   ],
   "source": [
    "[torch.arange(logits_stable.shape[0]), targets_2d]"
   ]
  },
  {
   "cell_type": "code",
   "execution_count": 22,
   "id": "0b8bc814",
   "metadata": {},
   "outputs": [
    {
     "data": {
      "text/plain": [
       "(torch.Size([5, 10, 1]), torch.Size([5, 10]))"
      ]
     },
     "execution_count": 22,
     "metadata": {},
     "output_type": "execute_result"
    }
   ],
   "source": [
    "logits_stable.unsqueeze(-1).shape, logits_stable.shape"
   ]
  },
  {
   "cell_type": "code",
   "execution_count": null,
   "id": "934e8ccd",
   "metadata": {},
   "outputs": [],
   "source": []
  },
  {
   "cell_type": "code",
   "execution_count": 24,
   "id": "8c861c04",
   "metadata": {},
   "outputs": [],
   "source": [
    "from collections.abc import Callable, Iterable\n",
    "from typing import Optional\n",
    "import torch\n",
    "import math\n",
    "class SGD(torch.optim.Optimizer):\n",
    "    def __init__(self, params, lr=1e-3):\n",
    "        if lr < 0:\n",
    "            raise ValueError(f\"Invalid learning rate: {lr}\")\n",
    "        defaults = {\"lr\": lr}\n",
    "        super().__init__(params, defaults)\n",
    "    def step(self, closure: Optional[Callable] = None):\n",
    "        loss = None if closure is None else closure()\n",
    "        for group in self.param_groups:\n",
    "            lr = group[\"lr\"] # Get the learning rate.\n",
    "            for p in group[\"params\"]:\n",
    "                if p.grad is None:\n",
    "                    continue\n",
    "                state = self.state[p] # Get state associated with p.\n",
    "                t = state.get(\"t\", 0) # Get iteration number from the state, or initial value.\n",
    "                grad = p.grad.data # Get the gradient of loss with respect to p.\n",
    "                p.data -= lr / math.sqrt(t + 1) * grad # Update weight tensor in-place.\n",
    "                state[\"t\"] = t + 1 # Increment iteration number.\n",
    "        return loss"
   ]
  },
  {
   "cell_type": "code",
   "execution_count": 36,
   "id": "9ffbc2fc",
   "metadata": {},
   "outputs": [
    {
     "name": "stdout",
     "output_type": "stream",
     "text": [
      "21.891338348388672\n",
      "21.02444076538086\n",
      "20.433984756469727\n",
      "19.964807510375977\n",
      "19.567508697509766\n",
      "19.219038009643555\n",
      "18.906475067138672\n",
      "18.621715545654297\n",
      "18.359296798706055\n",
      "18.115320205688477\n"
     ]
    }
   ],
   "source": [
    "weights = torch.nn.Parameter(5 * torch.randn((10, 10)))\n",
    "opt = SGD([weights], lr=1)\n",
    "for t in range(100):\n",
    "    opt.zero_grad() # Reset the gradients for all learnable parameters.\n",
    "    loss = (weights**2).mean() # Compute a scalar loss value.\n",
    "    if t//10 == 0:\n",
    "        print(loss.cpu().item())\n",
    "    loss.backward() # Run backward pass, which computes gradients.\n",
    "    opt.step()"
   ]
  },
  {
   "cell_type": "code",
   "execution_count": 37,
   "id": "21d2a44f",
   "metadata": {},
   "outputs": [
    {
     "name": "stdout",
     "output_type": "stream",
     "text": [
      "28.67748260498047\n",
      "28.562885284423828\n",
      "28.482154846191406\n",
      "28.41641616821289\n",
      "28.35961151123047\n",
      "28.308900833129883\n",
      "28.262693405151367\n",
      "28.219980239868164\n",
      "28.180086135864258\n",
      "28.14252471923828\n"
     ]
    }
   ],
   "source": [
    "weights = torch.nn.Parameter(5 * torch.randn((10, 10)))\n",
    "opt = SGD([weights], lr=0.1)\n",
    "for t in range(100):\n",
    "    opt.zero_grad() # Reset the gradients for all learnable parameters.\n",
    "    loss = (weights**2).mean() # Compute a scalar loss value.\n",
    "    if t//10 == 0:\n",
    "        print(loss.cpu().item())\n",
    "    loss.backward() # Run backward pass, which computes gradients.\n",
    "    opt.step()"
   ]
  },
  {
   "cell_type": "code",
   "execution_count": 38,
   "id": "39cfc676",
   "metadata": {},
   "outputs": [
    {
     "name": "stdout",
     "output_type": "stream",
     "text": [
      "20.715517044067383\n",
      "20.707231521606445\n",
      "20.701374053955078\n",
      "20.696596145629883\n",
      "20.692455291748047\n",
      "20.68875503540039\n",
      "20.685375213623047\n",
      "20.6822509765625\n",
      "20.6793270111084\n",
      "20.67656707763672\n"
     ]
    }
   ],
   "source": [
    "weights = torch.nn.Parameter(5 * torch.randn((10, 10)))\n",
    "opt = SGD([weights], lr=0.01)\n",
    "for t in range(100):\n",
    "    opt.zero_grad() # Reset the gradients for all learnable parameters.\n",
    "    loss = (weights**2).mean() # Compute a scalar loss value.\n",
    "    if t//10 == 0:\n",
    "        print(loss.cpu().item())\n",
    "    loss.backward() # Run backward pass, which computes gradients.\n",
    "    opt.step()"
   ]
  },
  {
   "cell_type": "code",
   "execution_count": 39,
   "id": "f622742b",
   "metadata": {},
   "outputs": [
    {
     "name": "stdout",
     "output_type": "stream",
     "text": [
      "29.525672912597656\n",
      "29.524494171142578\n",
      "29.523658752441406\n",
      "29.522977828979492\n",
      "29.522388458251953\n",
      "29.52185821533203\n",
      "29.521377563476562\n",
      "29.52092742919922\n",
      "29.520509719848633\n",
      "29.520116806030273\n"
     ]
    }
   ],
   "source": [
    "weights = torch.nn.Parameter(5 * torch.randn((10, 10)))\n",
    "opt = SGD([weights], lr=0.001)\n",
    "for t in range(100):\n",
    "    opt.zero_grad() # Reset the gradients for all learnable parameters.\n",
    "    loss = (weights**2).mean() # Compute a scalar loss value.\n",
    "    if t//10 == 0:\n",
    "        print(loss.cpu().item())\n",
    "    loss.backward() # Run backward pass, which computes gradients.\n",
    "    opt.step()"
   ]
  },
  {
   "cell_type": "code",
   "execution_count": null,
   "id": "7d29df4f",
   "metadata": {},
   "outputs": [],
   "source": []
  }
 ],
 "metadata": {
  "kernelspec": {
   "display_name": ".venv",
   "language": "python",
   "name": "python3"
  },
  "language_info": {
   "codemirror_mode": {
    "name": "ipython",
    "version": 3
   },
   "file_extension": ".py",
   "mimetype": "text/x-python",
   "name": "python",
   "nbconvert_exporter": "python",
   "pygments_lexer": "ipython3",
   "version": "3.13.5"
  }
 },
 "nbformat": 4,
 "nbformat_minor": 5
}
